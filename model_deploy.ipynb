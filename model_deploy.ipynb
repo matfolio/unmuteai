{
 "cells": [
  {
   "cell_type": "code",
   "execution_count": null,
   "metadata": {},
   "outputs": [],
   "source": [
    "import sagemaker\n",
    "from sagemaker import get_execution_role\n",
    "from sagemaker.sklearn.estimator import SKLearn\n",
    "import boto3\n",
    "import numpy as np\n",
    "import json"
   ]
  },
  {
   "cell_type": "code",
   "execution_count": null,
   "metadata": {},
   "outputs": [],
   "source": [
    "my_region = boto3.session.Session().region_name"
   ]
  },
  {
   "cell_type": "code",
   "execution_count": null,
   "metadata": {},
   "outputs": [],
   "source": [
    "\n",
    "sagemaker_session = sagemaker.Session()"
   ]
  },
  {
   "cell_type": "code",
   "execution_count": null,
   "metadata": {},
   "outputs": [],
   "source": [
    "# Detect the IAM role assigned to this sagemaker instance, to perform operations on the modules \n",
    "# such as inferential and Training modules.\n",
    "role = get_execution_role()"
   ]
  },
  {
   "cell_type": "code",
   "execution_count": null,
   "metadata": {},
   "outputs": [],
   "source": [
    "## Uploading data to S3\n",
    "data = sagemaker_session.upload_data('data')"
   ]
  },
  {
   "cell_type": "code",
   "execution_count": null,
   "metadata": {},
   "outputs": [],
   "source": [
    "# module containing script for the classifier and the specified data for training the algorithms\n",
    "# The dataset is a processed file (cleaned and wrangled dataset).\n",
    "model_path = \"production_model.py\"\n",
    "\n",
    "# instantiating the SKLearn estimator.\n",
    "sklearn_estimator = SKLearn(\n",
    "    entry_point = model_path,\n",
    "    train_instance_type = \"ml.m4.xlarge\",\n",
    "    role=role,\n",
    "    sagemaker_session = sagemaker_session,\n",
    "    framework_version='0.23-1' # Latest version of sklearn at the time of creating this estimator...\n",
    ")"
   ]
  },
  {
   "cell_type": "code",
   "execution_count": null,
   "metadata": {},
   "outputs": [],
   "source": [
    "# Fitting the estimator with the dataset uploaded to S3.\n",
    "# This function genereate a training job which the inferential module picks and creates a model with.\n",
    "sklearn_estimator.fit({'train': data})"
   ]
  },
  {
   "cell_type": "code",
   "execution_count": null,
   "metadata": {
    "scrolled": true
   },
   "outputs": [],
   "source": [
    "# Model deployment and Endpoint creation.\n",
    "deployment = sklearn_estimator.deploy(initial_instance_count=1,instance_type=\"ml.m4.xlarge\")"
   ]
  },
  {
   "cell_type": "code",
   "execution_count": null,
   "metadata": {},
   "outputs": [],
   "source": [
    "deployment.endpoint"
   ]
  }
 ],
 "metadata": {
  "kernelspec": {
   "display_name": "conda_python3",
   "language": "python",
   "name": "conda_python3"
  },
  "language_info": {
   "codemirror_mode": {
    "name": "ipython",
    "version": 3
   },
   "file_extension": ".py",
   "mimetype": "text/x-python",
   "name": "python",
   "nbconvert_exporter": "python",
   "pygments_lexer": "ipython3",
   "version": "3.6.10"
  }
 },
 "nbformat": 4,
 "nbformat_minor": 4
}
