{
 "cells": [
  {
   "cell_type": "markdown",
   "metadata": {},
   "source": [
    "# UnmuteAI Platform\n",
    "\n",
    "The aim of the platform is to develop an environment that would be used to predict the sentiment of a perceived review using a content-based filtering algorithm. The resulting engine is a sentiment-based recommender engine combining both technologies together. The fields within Natural Language Processing and Machine learning (including Deep learning) scope are put to test for the development of this project. The dataset used are scraped contents from Metascritc website containing game reviews from critics and other game features. Adequate request has been made towards retrieving the content using both Request and BeautifulSoup API (Python libraries). The dataset contains 8671 rows and 8 columns. Some other columns are feature extracted using already present once. The Dataset has no missing values, the reason being that some checking procedures where implemented when web scraping the contents. Necessary Data cleaning using modules and utilities provided by the NLTK and TextBlob Libraries are performed on the the dataset. The normalisation with regards to removal of HTML tags have been done in the web scraping process. About 5 models are fitted on the cleaned and preporcessed dataset. All models outperformed the benchmarked accuracy score "
   ]
  },
  {
   "cell_type": "code",
   "execution_count": 183,
   "metadata": {},
   "outputs": [],
   "source": [
    "import json\n",
    "dummy = pd.DataFrame({\"name\":[1,2,3]})\n",
    "sub = {'item': json.loads(dummy.to_json())}"
   ]
  },
  {
   "cell_type": "code",
   "execution_count": 185,
   "metadata": {},
   "outputs": [
    {
     "data": {
      "text/plain": [
       "{'name': {'0': 1, '1': 2, '2': 3}}"
      ]
     },
     "execution_count": 185,
     "metadata": {},
     "output_type": "execute_result"
    }
   ],
   "source": [
    "res = json.dumps(sub)\n",
    "res = json.loads(res)\n",
    "result = res['item']\n",
    "#item1 = json.loads(result)\n",
    "result"
   ]
  },
  {
   "cell_type": "code",
   "execution_count": null,
   "metadata": {},
   "outputs": [],
   "source": [
    "!pip install nltk\n"
   ]
  },
  {
   "cell_type": "code",
   "execution_count": null,
   "metadata": {},
   "outputs": [],
   "source": [
    "nltk.download()"
   ]
  },
  {
   "cell_type": "code",
   "execution_count": 2,
   "metadata": {},
   "outputs": [],
   "source": [
    "import pandas as pd\n",
    "import numpy as np\n",
    "from sklearn.utils import shuffle\n",
    "from sklearn.model_selection import train_test_split, cross_val_score\n",
    "from sklearn import utils\n",
    "import matplotlib.pyplot as plt\n",
    "import warnings\n",
    "import nltk\n",
    "from nltk.corpus import stopwords\n",
    "from nltk.stem import PorterStemmer\n",
    "import contractions as ct\n",
    "from nltk.tokenize import word_tokenize\n",
    "from nltk.stem import WordNetLemmatizer\n",
    "from textblob import Word, TextBlob\n",
    "import string\n",
    "import re\n",
    "import os"
   ]
  },
  {
   "cell_type": "code",
   "execution_count": 3,
   "metadata": {},
   "outputs": [
    {
     "name": "stderr",
     "output_type": "stream",
     "text": [
      "[nltk_data] Downloading package stopwords to\n",
      "[nltk_data]     C:\\Users\\tunde\\AppData\\Roaming\\nltk_data...\n",
      "[nltk_data]   Package stopwords is already up-to-date!\n"
     ]
    },
    {
     "data": {
      "text/plain": [
       "True"
      ]
     },
     "execution_count": 3,
     "metadata": {},
     "output_type": "execute_result"
    }
   ],
   "source": [
    "nltk.download('stopwords')"
   ]
  },
  {
   "cell_type": "markdown",
   "metadata": {},
   "source": [
    "## Loading Game Review dataset from the system "
   ]
  },
  {
   "cell_type": "markdown",
   "metadata": {},
   "source": [
    "## Data Loading and Initial exploration "
   ]
  },
  {
   "cell_type": "code",
   "execution_count": 127,
   "metadata": {},
   "outputs": [
    {
     "name": "stdout",
     "output_type": "stream",
     "text": [
      "C:\\Users\\tunde\\Documents\\Python\\MLProjects\\Data Prep\\UnmuteAI\n",
      "C:\\Users\\tunde\\Documents\\Python\\MLProjects\\Data Prep\\UnmuteAI\\data\\game_reviews.csv\n",
      "(8671, 8)\n",
      "8671\n",
      "                                 title     platform   release_date   \\\n",
      "0  The Legend of Zelda: Ocarina of Time  Nintendo 64    Nov-23-1998   \n",
      "1              Tony Hawk's Pro Skater 2  PlayStation    Sep-20-2000   \n",
      "\n",
      "                developer                                genres   \\\n",
      "0                 Nintendo            Action Adventure | Fantasy   \n",
      "1  Neversoft Entertainment  Sports | Alternative | Skateboarding   \n",
      "\n",
      "         reviewer    metascore   \\\n",
      "0      Gaming Maxx          100   \n",
      "1  CNET Gamecenter          100   \n",
      "\n",
      "                                              review  \n",
      "0  Nothing but pure 100% fun challenging and leng...  \n",
      "1  The best skateboarding game ever and one of th...  \n",
      "                                         title   platform   release_date   \\\n",
      "8669  Skylar & Plux: Adventure on Clover Island         PC    May-19-2017   \n",
      "8670                                 In Between   Xbox One     Jun-8-2016   \n",
      "\n",
      "            developer                    genres   reviewer    metascore   \\\n",
      "8669  Right Nice Games  Action | Platformer | 3D   Games.cz           80   \n",
      "8670         Gentlymad  Action | Platformer | 2D       ICXM          100   \n",
      "\n",
      "                                                 review  \n",
      "8669  In Skylar & Plux there is a genuine joy of sim...  \n",
      "8670  In Between is powerful smart and engaging down...  \n",
      "Index(['TITLE', 'PLATFORM', 'RELEASE_DATE', 'DEVELOPER', 'GENRES', 'REVIEWER',\n",
      "       'METASCORE', 'REVIEW'],\n",
      "      dtype='object')\n",
      "TITLE           0\n",
      "PLATFORM        0\n",
      "RELEASE_DATE    0\n",
      "DEVELOPER       0\n",
      "GENRES          0\n",
      "REVIEWER        0\n",
      "METASCORE       0\n",
      "REVIEW          0\n",
      "dtype: int64\n",
      "         METASCORE\n",
      "count  8671.000000\n",
      "mean     69.568677\n",
      "std      25.671545\n",
      "min       0.000000\n",
      "25%      45.000000\n",
      "50%      80.000000\n",
      "75%      93.000000\n",
      "max     100.000000\n",
      "The mean score of metascore : 69.57\n",
      "4291\n",
      "The list of platforms contained in the dataset: 19\n"
     ]
    }
   ],
   "source": [
    "print(os.getcwd())\n",
    "game_reviews = os.getcwd() + \"\\data\\game_reviews.csv\"\n",
    "print(game_reviews)\n",
    "\n",
    "# Loading Data\n",
    "df = pd.read_csv(game_reviews)\n",
    "\n",
    "# Performing initial exploration\n",
    "# Data shape\n",
    "print(df.shape)\n",
    "\n",
    "# No. of instances (rows) in the dataset...\n",
    "print(len(df))\n",
    "\n",
    "# Display the top 2 observations\n",
    "print(df.head(2))\n",
    "\n",
    "# Display the bottom 2 observations\n",
    "print(df.tail(2))\n",
    "\n",
    "# The column names are prefixed with whitespace, this need to be removed\n",
    "df.columns = df.columns.str.strip()\n",
    "\n",
    "# Normalizing the column names (change all to uppercase)\n",
    "df.columns = df.columns.str.upper()\n",
    "\n",
    "# showing the attributes in the dataset\n",
    "print(df.columns)\n",
    "\n",
    "# Checking for any missing values in the columns\n",
    "print(df.isnull().sum())\n",
    "\n",
    "# Learning more anout the dataset\n",
    "print(df.describe())\n",
    "\n",
    "# Estimating the mean metascore \n",
    "mean_score = df[\"METASCORE\"].mean()\n",
    "print(\"The mean score of metascore : {0:.2f}\".format(mean_score))\n",
    "\n",
    "# Unique games in the dataset\n",
    "unique_games = np.unique(df[\"TITLE\"])\n",
    "print(len(unique_games))\n",
    "\n",
    "# Unique platforms in the dataset\n",
    "unique_platform = np.unique(df[\"PLATFORM\"])\n",
    "print(\"The list of platforms contained in the dataset: {}\".format(len(unique_platform)))\n"
   ]
  },
  {
   "cell_type": "markdown",
   "metadata": {},
   "source": [
    "## Data Preparation and Cleaning\n",
    "\n",
    "- *Removing numeric values*\n",
    "- *Removing punctuations*\n",
    "- *performing contractions (dealing text inflections)*\n",
    "- *Normalizing the text: includes transforming text into lowercase, removing tags if found, filter only alphanumeric features*\n",
    "- *Transforming words into their base shape*\n",
    "- *Removing stop words*\n",
    "\n",
    "The following approach has been taken to categorize the metascore scheme definitions and categorization given by metacritic using their weighted average algorithm.\n",
    "\n",
    "**<center>In the dataset, this is labled as pos: target - pos and UI: assigned a green color</center>**\n",
    "\n",
    "| indications | metascore | label |\n",
    "| :-: | :-: | :-: |\n",
    "| Universal acclaim    | 90–100 | pos |\n",
    "| Generally favorable reviews with some mixed positive oriented reviews    | 66–89 | pos |\n",
    "\n",
    "       \n",
    "\n",
    "**<center>In the dataset, this is labled as pos: target - neg and UI: assigned a red color</center>**\n",
    "\n",
    "| indications | metascore | label\n",
    "| :-: | :-: | :-: |\n",
    "| Generally unfavorable reviews with some mixed negative oriented reviews   | 20–65 | neg |\n",
    "| Overwhelming dislike    | 0–19 | neg |\n",
    "           "
   ]
  },
  {
   "cell_type": "code",
   "execution_count": 124,
   "metadata": {},
   "outputs": [
    {
     "data": {
      "text/plain": [
       "'precise'"
      ]
     },
     "execution_count": 124,
     "metadata": {},
     "output_type": "execute_result"
    }
   ],
   "source": [
    "#res = Word(\"\").lemmatize()\n",
    "#stemmer.stem(\"having\")\n",
    "#TextBlob(\"dirti\").correct()\n",
    "#stemmer.stem('resident')\n",
    "res =TextBlob(\"precis\").correct()\n",
    "str(res)"
   ]
  },
  {
   "cell_type": "code",
   "execution_count": 128,
   "metadata": {},
   "outputs": [],
   "source": [
    "stemmer = PorterStemmer()\n",
    "words = stopwords.words(\"english\")\n",
    "punctuations = string.punctuation\n",
    "\n",
    "## Processing utilities\n",
    "\n",
    "# removes inflection: I'll ->I will  He'd -> He had\n",
    "def remove_contractions(text):\n",
    "    return ct.fix(text)\n",
    "\n",
    "# transform words into their base or root form: giving -> give, having -> have, discussion -> discuss, lengthy -> lengthi\n",
    "def get_stemmed_text(word):\n",
    "    #word = word.lower()\n",
    "    #root = stemmer.stem(word)\n",
    "    #return str(TextBlob(root).correct())\n",
    "    return stemmer.stem(word)\n",
    "\n",
    "# hide '-' from the list of puctuations available in the string.puctuation module\n",
    "def reset_punct():\n",
    "    holder = string.punctuation\n",
    "    return re.sub(\"\\''\",\"\",holder)\n",
    "\n",
    "def get_cleaned_review(item):\n",
    "    #punctuations = reset_punct()\n",
    "    fixed_text = remove_contractions(item)\n",
    "    processed_text = [i.lower() for i in re.split(r\"\\W+\", fixed_text)]\n",
    "    processed_text = [ i for i in processed_text if not i in punctuations]\n",
    "    processed_text = [ i for i in processed_text if len(i) > 2 ] \n",
    "    processed_text = [ i for i in processed_text if i.isalpha()]\n",
    "    processed_text = [ get_stemmed_text(i) for i in processed_text if not i in words]\n",
    "    return processed_text\n",
    "\n",
    "# Deprecated\n",
    "def metascore_to_label_depr(metascore):\n",
    "    if metascore > 74:\n",
    "        return 2\n",
    "    elif metascore > 49 and metascore < 75:\n",
    "        return 1\n",
    "    else:\n",
    "        return 0\n",
    "\n",
    "# Label encoding \n",
    "def metascore_to_label(metascore):\n",
    "    if metascore > 65:\n",
    "        return 1\n",
    "    else:\n",
    "        return 0\n",
    "\n",
    "# Split release date by the delimiter '-': from creating a new column 'RELEASE_YEAR'    \n",
    "def get_release_year(release_year):\n",
    "    return release_year.split(\"-\")[2]\n",
    "\n"
   ]
  },
  {
   "cell_type": "code",
   "execution_count": 129,
   "metadata": {},
   "outputs": [],
   "source": [
    "# Feature engineering: creating a new column off the REVIEW column \n",
    "\n",
    "df['PROCESSED_REVIEW'] = df['REVIEW'].apply(lambda row: \" \".join(get_cleaned_review(row)))\n",
    "\n",
    "df['RELEASE_YEAR'] = df['RELEASE_DATE'].apply(get_release_year)\n",
    "\n",
    "df['TOKENIZED_REVIEW'] = df['PROCESSED_REVIEW'].apply(lambda row: [token for token in word_tokenize(row)])\n",
    "\n",
    "df[\"LABEL\"] = df.METASCORE.apply(lambda metascore: metascore_to_label(metascore))\n",
    "\n",
    "df['REVIEW_WORD_COUNT'] = df['TOKENIZED_REVIEW'].apply(len)\n",
    "\n",
    "df['SENTIMENT'] = df['PROCESSED_REVIEW'].apply(lambda review: TextBlob(review).sentiment.polarity)\n",
    "\n",
    "df['SUBJECTIVITY'] = df['PROCESSED_REVIEW'].apply(lambda review: TextBlob(review).sentiment.subjectivity)\n"
   ]
  },
  {
   "cell_type": "code",
   "execution_count": 133,
   "metadata": {},
   "outputs": [
    {
     "data": {
      "text/plain": [
       "Index(['TITLE', 'PLATFORM', 'RELEASE_DATE', 'DEVELOPER', 'GENRES', 'REVIEWER',\n",
       "       'METASCORE', 'REVIEW', 'PROCESSED_REVIEW', 'RELEASE_YEAR',\n",
       "       'TOKENIZED_REVIEW', 'LABEL', 'REVIEW_WORD_COUNT', 'SENTIMENT',\n",
       "       'SUBJECTIVITY'],\n",
       "      dtype='object')"
      ]
     },
     "execution_count": 133,
     "metadata": {},
     "output_type": "execute_result"
    }
   ],
   "source": [
    "# Processed dataset\n",
    "df.columns\n"
   ]
  },
  {
   "cell_type": "code",
   "execution_count": 132,
   "metadata": {},
   "outputs": [
    {
     "data": {
      "text/html": [
       "<div>\n",
       "<style scoped>\n",
       "    .dataframe tbody tr th:only-of-type {\n",
       "        vertical-align: middle;\n",
       "    }\n",
       "\n",
       "    .dataframe tbody tr th {\n",
       "        vertical-align: top;\n",
       "    }\n",
       "\n",
       "    .dataframe thead th {\n",
       "        text-align: right;\n",
       "    }\n",
       "</style>\n",
       "<table border=\"1\" class=\"dataframe\">\n",
       "  <thead>\n",
       "    <tr style=\"text-align: right;\">\n",
       "      <th></th>\n",
       "      <th>TITLE</th>\n",
       "      <th>PLATFORM</th>\n",
       "      <th>RELEASE_DATE</th>\n",
       "      <th>DEVELOPER</th>\n",
       "      <th>GENRES</th>\n",
       "      <th>REVIEWER</th>\n",
       "      <th>METASCORE</th>\n",
       "      <th>REVIEW</th>\n",
       "      <th>PROCESSED_REVIEW</th>\n",
       "      <th>RELEASE_YEAR</th>\n",
       "      <th>TOKENIZED_REVIEW</th>\n",
       "      <th>LABEL</th>\n",
       "      <th>REVIEW_WORD_COUNT</th>\n",
       "      <th>SENTIMENT</th>\n",
       "      <th>SUBJECTIVITY</th>\n",
       "    </tr>\n",
       "  </thead>\n",
       "  <tbody>\n",
       "    <tr>\n",
       "      <th>0</th>\n",
       "      <td>The Legend of Zelda: Ocarina of Time</td>\n",
       "      <td>Nintendo 64</td>\n",
       "      <td>Nov-23-1998</td>\n",
       "      <td>Nintendo</td>\n",
       "      <td>Action Adventure | Fantasy</td>\n",
       "      <td>Gaming Maxx</td>\n",
       "      <td>100</td>\n",
       "      <td>Nothing but pure 100% fun challenging and leng...</td>\n",
       "      <td>noth pure fun challeng lengthi</td>\n",
       "      <td>1998</td>\n",
       "      <td>[noth, pure, fun, challeng, lengthi]</td>\n",
       "      <td>1</td>\n",
       "      <td>5</td>\n",
       "      <td>0.257143</td>\n",
       "      <td>0.350000</td>\n",
       "    </tr>\n",
       "    <tr>\n",
       "      <th>1</th>\n",
       "      <td>Tony Hawk's Pro Skater 2</td>\n",
       "      <td>PlayStation</td>\n",
       "      <td>Sep-20-2000</td>\n",
       "      <td>Neversoft Entertainment</td>\n",
       "      <td>Sports | Alternative | Skateboarding</td>\n",
       "      <td>CNET Gamecenter</td>\n",
       "      <td>100</td>\n",
       "      <td>The best skateboarding game ever and one of th...</td>\n",
       "      <td>best skateboard game ever one greatest playsta...</td>\n",
       "      <td>2000</td>\n",
       "      <td>[best, skateboard, game, ever, one, greatest, ...</td>\n",
       "      <td>1</td>\n",
       "      <td>9</td>\n",
       "      <td>0.300000</td>\n",
       "      <td>0.525000</td>\n",
       "    </tr>\n",
       "    <tr>\n",
       "      <th>2</th>\n",
       "      <td>Grand Theft Auto IV</td>\n",
       "      <td>PlayStation 3</td>\n",
       "      <td>Apr-29-2008</td>\n",
       "      <td>Rockstar North</td>\n",
       "      <td>Action Adventure | Modern | Modern | Open-World</td>\n",
       "      <td>Jolt Online Gaming UK</td>\n",
       "      <td>100</td>\n",
       "      <td>Grand Theft Auto IV is not a perfect game but ...</td>\n",
       "      <td>grand theft auto perfect game fantast start fi...</td>\n",
       "      <td>2008</td>\n",
       "      <td>[grand, theft, auto, perfect, game, fantast, s...</td>\n",
       "      <td>1</td>\n",
       "      <td>24</td>\n",
       "      <td>0.157143</td>\n",
       "      <td>0.600000</td>\n",
       "    </tr>\n",
       "    <tr>\n",
       "      <th>3</th>\n",
       "      <td>SoulCalibur</td>\n",
       "      <td>Dreamcast</td>\n",
       "      <td>Sep-8-1999</td>\n",
       "      <td>Namco</td>\n",
       "      <td>Action | Fighting | 3D</td>\n",
       "      <td>CheckOut</td>\n",
       "      <td>100</td>\n",
       "      <td>I guarantee you'll be amazed at how phenomenal...</td>\n",
       "      <td>guarante amaz phenomen game look abl put</td>\n",
       "      <td>1999</td>\n",
       "      <td>[guarante, amaz, phenomen, game, look, abl, put]</td>\n",
       "      <td>1</td>\n",
       "      <td>7</td>\n",
       "      <td>-0.400000</td>\n",
       "      <td>0.400000</td>\n",
       "    </tr>\n",
       "    <tr>\n",
       "      <th>4</th>\n",
       "      <td>Grand Theft Auto IV</td>\n",
       "      <td>Xbox 360</td>\n",
       "      <td>Apr-29-2008</td>\n",
       "      <td>Rockstar North</td>\n",
       "      <td>Action Adventure | Modern | Modern | Open-World</td>\n",
       "      <td>Official Xbox Magazine UK</td>\n",
       "      <td>100</td>\n",
       "      <td>It's got a world you believe in a cast you car...</td>\n",
       "      <td>got world believ cast care script stuf brillia...</td>\n",
       "      <td>2008</td>\n",
       "      <td>[got, world, believ, cast, care, script, stuf,...</td>\n",
       "      <td>1</td>\n",
       "      <td>14</td>\n",
       "      <td>0.900000</td>\n",
       "      <td>1.000000</td>\n",
       "    </tr>\n",
       "    <tr>\n",
       "      <th>5</th>\n",
       "      <td>Super Mario Galaxy</td>\n",
       "      <td>Wii</td>\n",
       "      <td>Nov-12-2007</td>\n",
       "      <td>Nintendo</td>\n",
       "      <td>Action | Platformer | Platformer | 3D | 3D</td>\n",
       "      <td>NTSC-uk</td>\n",
       "      <td>100</td>\n",
       "      <td>Mario has not grown older but younger with tim...</td>\n",
       "      <td>mario grown older younger time slender suppl g...</td>\n",
       "      <td>2007</td>\n",
       "      <td>[mario, grown, older, younger, time, slender, ...</td>\n",
       "      <td>1</td>\n",
       "      <td>42</td>\n",
       "      <td>0.211111</td>\n",
       "      <td>0.406173</td>\n",
       "    </tr>\n",
       "    <tr>\n",
       "      <th>6</th>\n",
       "      <td>Super Mario Galaxy 2</td>\n",
       "      <td>Wii</td>\n",
       "      <td>May-23-2010</td>\n",
       "      <td>Nintendo EAD Tokyo</td>\n",
       "      <td>Action | Platformer | Platformer | 3D | 3D</td>\n",
       "      <td>Gamereactor Sweden</td>\n",
       "      <td>100</td>\n",
       "      <td>Improves on the first game and charms every bo...</td>\n",
       "      <td>improv first game charm everi bone game love b...</td>\n",
       "      <td>2010</td>\n",
       "      <td>[improv, first, game, charm, everi, bone, game...</td>\n",
       "      <td>1</td>\n",
       "      <td>18</td>\n",
       "      <td>0.081250</td>\n",
       "      <td>0.429167</td>\n",
       "    </tr>\n",
       "    <tr>\n",
       "      <th>7</th>\n",
       "      <td>Red Dead Redemption 2</td>\n",
       "      <td>Xbox One</td>\n",
       "      <td>Oct-26-2018</td>\n",
       "      <td>Rockstar Games</td>\n",
       "      <td>Action Adventure | Open-World</td>\n",
       "      <td>GamingTrend</td>\n",
       "      <td>100</td>\n",
       "      <td>Red Dead Redemption 2 raises the bar for sandb...</td>\n",
       "      <td>red dead redempt rais bar sandbox adventur gam...</td>\n",
       "      <td>2018</td>\n",
       "      <td>[red, dead, redempt, rais, bar, sandbox, adven...</td>\n",
       "      <td>1</td>\n",
       "      <td>27</td>\n",
       "      <td>-0.150000</td>\n",
       "      <td>0.300000</td>\n",
       "    </tr>\n",
       "    <tr>\n",
       "      <th>8</th>\n",
       "      <td>Grand Theft Auto V</td>\n",
       "      <td>Xbox One</td>\n",
       "      <td>Nov-18-2014</td>\n",
       "      <td>Rockstar North</td>\n",
       "      <td>Action Adventure | Modern | Open-World</td>\n",
       "      <td>X-ONE Magazine UK</td>\n",
       "      <td>100</td>\n",
       "      <td>It’s just a great game tying to be even better...</td>\n",
       "      <td>great game tie even better case work case ulti...</td>\n",
       "      <td>2014</td>\n",
       "      <td>[great, game, tie, even, better, case, work, c...</td>\n",
       "      <td>1</td>\n",
       "      <td>23</td>\n",
       "      <td>0.366667</td>\n",
       "      <td>0.541667</td>\n",
       "    </tr>\n",
       "    <tr>\n",
       "      <th>9</th>\n",
       "      <td>Grand Theft Auto V</td>\n",
       "      <td>PlayStation 3</td>\n",
       "      <td>Sep-17-2013</td>\n",
       "      <td>Rockstar North</td>\n",
       "      <td>Modern | Action Adventure | Modern | Open-World</td>\n",
       "      <td>LEVEL (Czech Republic)</td>\n",
       "      <td>100</td>\n",
       "      <td>GTA V fulfills the idea of a gaming sandbox wh...</td>\n",
       "      <td>gta fulfil idea game sandbox entertain mani di...</td>\n",
       "      <td>2013</td>\n",
       "      <td>[gta, fulfil, idea, game, sandbox, entertain, ...</td>\n",
       "      <td>1</td>\n",
       "      <td>18</td>\n",
       "      <td>-0.400000</td>\n",
       "      <td>0.400000</td>\n",
       "    </tr>\n",
       "  </tbody>\n",
       "</table>\n",
       "</div>"
      ],
      "text/plain": [
       "                                  TITLE       PLATFORM RELEASE_DATE  \\\n",
       "0  The Legend of Zelda: Ocarina of Time    Nintendo 64  Nov-23-1998   \n",
       "1              Tony Hawk's Pro Skater 2    PlayStation  Sep-20-2000   \n",
       "2                   Grand Theft Auto IV  PlayStation 3  Apr-29-2008   \n",
       "3                           SoulCalibur      Dreamcast   Sep-8-1999   \n",
       "4                   Grand Theft Auto IV       Xbox 360  Apr-29-2008   \n",
       "5                    Super Mario Galaxy            Wii  Nov-12-2007   \n",
       "6                  Super Mario Galaxy 2            Wii  May-23-2010   \n",
       "7                 Red Dead Redemption 2       Xbox One  Oct-26-2018   \n",
       "8                    Grand Theft Auto V       Xbox One  Nov-18-2014   \n",
       "9                    Grand Theft Auto V  PlayStation 3  Sep-17-2013   \n",
       "\n",
       "                 DEVELOPER                                           GENRES  \\\n",
       "0                 Nintendo                       Action Adventure | Fantasy   \n",
       "1  Neversoft Entertainment             Sports | Alternative | Skateboarding   \n",
       "2           Rockstar North  Action Adventure | Modern | Modern | Open-World   \n",
       "3                    Namco                           Action | Fighting | 3D   \n",
       "4           Rockstar North  Action Adventure | Modern | Modern | Open-World   \n",
       "5                 Nintendo       Action | Platformer | Platformer | 3D | 3D   \n",
       "6       Nintendo EAD Tokyo       Action | Platformer | Platformer | 3D | 3D   \n",
       "7           Rockstar Games                    Action Adventure | Open-World   \n",
       "8           Rockstar North           Action Adventure | Modern | Open-World   \n",
       "9           Rockstar North  Modern | Action Adventure | Modern | Open-World   \n",
       "\n",
       "                    REVIEWER  METASCORE  \\\n",
       "0                Gaming Maxx        100   \n",
       "1            CNET Gamecenter        100   \n",
       "2      Jolt Online Gaming UK        100   \n",
       "3                   CheckOut        100   \n",
       "4  Official Xbox Magazine UK        100   \n",
       "5                    NTSC-uk        100   \n",
       "6         Gamereactor Sweden        100   \n",
       "7                GamingTrend        100   \n",
       "8          X-ONE Magazine UK        100   \n",
       "9     LEVEL (Czech Republic)        100   \n",
       "\n",
       "                                              REVIEW  \\\n",
       "0  Nothing but pure 100% fun challenging and leng...   \n",
       "1  The best skateboarding game ever and one of th...   \n",
       "2  Grand Theft Auto IV is not a perfect game but ...   \n",
       "3  I guarantee you'll be amazed at how phenomenal...   \n",
       "4  It's got a world you believe in a cast you car...   \n",
       "5  Mario has not grown older but younger with tim...   \n",
       "6  Improves on the first game and charms every bo...   \n",
       "7  Red Dead Redemption 2 raises the bar for sandb...   \n",
       "8  It’s just a great game tying to be even better...   \n",
       "9  GTA V fulfills the idea of a gaming sandbox wh...   \n",
       "\n",
       "                                    PROCESSED_REVIEW RELEASE_YEAR  \\\n",
       "0                     noth pure fun challeng lengthi         1998   \n",
       "1  best skateboard game ever one greatest playsta...         2000   \n",
       "2  grand theft auto perfect game fantast start fi...         2008   \n",
       "3           guarante amaz phenomen game look abl put         1999   \n",
       "4  got world believ cast care script stuf brillia...         2008   \n",
       "5  mario grown older younger time slender suppl g...         2007   \n",
       "6  improv first game charm everi bone game love b...         2010   \n",
       "7  red dead redempt rais bar sandbox adventur gam...         2018   \n",
       "8  great game tie even better case work case ulti...         2014   \n",
       "9  gta fulfil idea game sandbox entertain mani di...         2013   \n",
       "\n",
       "                                    TOKENIZED_REVIEW  LABEL  \\\n",
       "0               [noth, pure, fun, challeng, lengthi]      1   \n",
       "1  [best, skateboard, game, ever, one, greatest, ...      1   \n",
       "2  [grand, theft, auto, perfect, game, fantast, s...      1   \n",
       "3   [guarante, amaz, phenomen, game, look, abl, put]      1   \n",
       "4  [got, world, believ, cast, care, script, stuf,...      1   \n",
       "5  [mario, grown, older, younger, time, slender, ...      1   \n",
       "6  [improv, first, game, charm, everi, bone, game...      1   \n",
       "7  [red, dead, redempt, rais, bar, sandbox, adven...      1   \n",
       "8  [great, game, tie, even, better, case, work, c...      1   \n",
       "9  [gta, fulfil, idea, game, sandbox, entertain, ...      1   \n",
       "\n",
       "   REVIEW_WORD_COUNT  SENTIMENT  SUBJECTIVITY  \n",
       "0                  5   0.257143      0.350000  \n",
       "1                  9   0.300000      0.525000  \n",
       "2                 24   0.157143      0.600000  \n",
       "3                  7  -0.400000      0.400000  \n",
       "4                 14   0.900000      1.000000  \n",
       "5                 42   0.211111      0.406173  \n",
       "6                 18   0.081250      0.429167  \n",
       "7                 27  -0.150000      0.300000  \n",
       "8                 23   0.366667      0.541667  \n",
       "9                 18  -0.400000      0.400000  "
      ]
     },
     "execution_count": 132,
     "metadata": {},
     "output_type": "execute_result"
    }
   ],
   "source": [
    "df[:10]"
   ]
  },
  {
   "cell_type": "code",
   "execution_count": 138,
   "metadata": {},
   "outputs": [],
   "source": [
    "## saving the processed dataframe as a binary file using pickle\n",
    "# The content could be retrieved later from backup using pd.read_pickle(binary)\n",
    "#df.to_pickle(\"processed_data.pickle\")\n",
    "df.to_csv(\".\\data\\processed_data.csv\")"
   ]
  },
  {
   "cell_type": "markdown",
   "metadata": {},
   "source": [
    "## Exploratory Data Analysis (EDA)"
   ]
  },
  {
   "cell_type": "code",
   "execution_count": 235,
   "metadata": {},
   "outputs": [
    {
     "data": {
      "text/plain": [
       "[Text(0.5, 0, 'most common words'),\n",
       " Text(0, 0.5, '# occurences'),\n",
       " Text(0.5, 1.0, 'Plot of the most common words...')]"
      ]
     },
     "execution_count": 235,
     "metadata": {},
     "output_type": "execute_result"
    },
    {
     "data": {
      "image/png": "[encoded data removed]",
      "text/plain": [
       "<Figure size 1490.4x739.44 with 1 Axes>"
      ]
     },
     "metadata": {},
     "output_type": "display_data"
    }
   ],
   "source": [
    "from nltk import FreqDist\n",
    "import seaborn as sns\n",
    "sns.set(font_scale=1.5)\n",
    "\n",
    "freq_dist_pos = FreqDist(X for i in df.TOKENIZED_REVIEW for X in i if len(X) > 3) \n",
    "most_common = freq_dist_pos.most_common(10)\n",
    "most_common_df_ = pd.DataFrame(most_common, columns = [\"WORD\",\"COUNT\"])\n",
    "plot = sns.barplot(x='WORD',y=\"COUNT\", data=most_common_df_)\n",
    "plot.set(xlabel=\"most common words\", ylabel = \"# occurences\", title = \"Plot of the most common words...\")"
   ]
  },
  {
   "cell_type": "code",
   "execution_count": 236,
   "metadata": {},
   "outputs": [
    {
     "data": {
      "text/html": [
       "<div>\n",
       "<style scoped>\n",
       "    .dataframe tbody tr th:only-of-type {\n",
       "        vertical-align: middle;\n",
       "    }\n",
       "\n",
       "    .dataframe tbody tr th {\n",
       "        vertical-align: top;\n",
       "    }\n",
       "\n",
       "    .dataframe thead th {\n",
       "        text-align: right;\n",
       "    }\n",
       "</style>\n",
       "<table border=\"1\" class=\"dataframe\">\n",
       "  <thead>\n",
       "    <tr style=\"text-align: right;\">\n",
       "      <th></th>\n",
       "      <th>WORD</th>\n",
       "      <th>COUNT</th>\n",
       "    </tr>\n",
       "  </thead>\n",
       "  <tbody>\n",
       "    <tr>\n",
       "      <th>0</th>\n",
       "      <td>game</td>\n",
       "      <td>6428</td>\n",
       "    </tr>\n",
       "    <tr>\n",
       "      <th>1</th>\n",
       "      <td>play</td>\n",
       "      <td>1539</td>\n",
       "    </tr>\n",
       "    <tr>\n",
       "      <th>2</th>\n",
       "      <td>like</td>\n",
       "      <td>1072</td>\n",
       "    </tr>\n",
       "    <tr>\n",
       "      <th>3</th>\n",
       "      <td>make</td>\n",
       "      <td>1030</td>\n",
       "    </tr>\n",
       "    <tr>\n",
       "      <th>4</th>\n",
       "      <td>gameplay</td>\n",
       "      <td>995</td>\n",
       "    </tr>\n",
       "    <tr>\n",
       "      <th>5</th>\n",
       "      <td>time</td>\n",
       "      <td>959</td>\n",
       "    </tr>\n",
       "    <tr>\n",
       "      <th>6</th>\n",
       "      <td>experi</td>\n",
       "      <td>842</td>\n",
       "    </tr>\n",
       "    <tr>\n",
       "      <th>7</th>\n",
       "      <td>even</td>\n",
       "      <td>821</td>\n",
       "    </tr>\n",
       "    <tr>\n",
       "      <th>8</th>\n",
       "      <td>best</td>\n",
       "      <td>773</td>\n",
       "    </tr>\n",
       "    <tr>\n",
       "      <th>9</th>\n",
       "      <td>good</td>\n",
       "      <td>748</td>\n",
       "    </tr>\n",
       "  </tbody>\n",
       "</table>\n",
       "</div>"
      ],
      "text/plain": [
       "       WORD  COUNT\n",
       "0      game   6428\n",
       "1      play   1539\n",
       "2      like   1072\n",
       "3      make   1030\n",
       "4  gameplay    995\n",
       "5      time    959\n",
       "6    experi    842\n",
       "7      even    821\n",
       "8      best    773\n",
       "9      good    748"
      ]
     },
     "execution_count": 236,
     "metadata": {},
     "output_type": "execute_result"
    }
   ],
   "source": [
    "# Most common words\n",
    "most_common_df_"
   ]
  },
  {
   "cell_type": "code",
   "execution_count": 237,
   "metadata": {},
   "outputs": [
    {
     "data": {
      "text/plain": [
       "<AxesSubplot:>"
      ]
     },
     "execution_count": 237,
     "metadata": {},
     "output_type": "execute_result"
    },
    {
     "data": {
      "image/png": "[encoded data removed]",
      "text/plain": [
       "<Figure size 864x720 with 1 Axes>"
      ]
     },
     "metadata": {},
     "output_type": "display_data"
    }
   ],
   "source": [
    "df['DEVELOPER'].value_counts().head(30).plot(kind='bar', figsize=(12,10))"
   ]
  },
  {
   "cell_type": "code",
   "execution_count": 238,
   "metadata": {},
   "outputs": [
    {
     "data": {
      "text/plain": [
       "<AxesSubplot:xlabel='PLATFORM', ylabel='count'>"
      ]
     },
     "execution_count": 238,
     "metadata": {},
     "output_type": "execute_result"
    },
    {
     "data": {
      "image/png": "[encoded data removed]",
      "text/plain": [
       "<Figure size 1490.4x739.44 with 1 Axes>"
      ]
     },
     "metadata": {},
     "output_type": "display_data"
    }
   ],
   "source": [
    "sns.set(font_scale=1.5)\n",
    "sns.set(rc={'figure.figsize':(20.7,10.27)})\n",
    "sns.countplot(x='PLATFORM', data=df)"
   ]
  },
  {
   "cell_type": "code",
   "execution_count": 239,
   "metadata": {},
   "outputs": [
    {
     "data": {
      "image/png": "[encoded data removed]",
      "text/plain": [
       "<Figure size 1080x576 with 1 Axes>"
      ]
     },
     "metadata": {},
     "output_type": "display_data"
    }
   ],
   "source": [
    "#df.filter([\"REVIEW\", \"METASCORE\", \"RELEASE_YEAR\"])\n",
    "font = {'family' : 'serif',\n",
    "        'weight' : 'normal',\n",
    "        'size'   : 22}\n",
    "\n",
    "plt.rc('font', **font)\n",
    "df.groupby('LABEL').REVIEW.count().plot.bar(figsize=(15, 8))\n",
    "plt.title(\"LABEL distribution\")\n",
    "plt.ylabel('Occurrences', fontsize=15)\n",
    "plt.xlabel('LABEL', fontsize=15)\n",
    "plt.legend(\"CLASS\")\n",
    "plt.show()"
   ]
  },
  {
   "cell_type": "code",
   "execution_count": 244,
   "metadata": {},
   "outputs": [
    {
     "data": {
      "text/html": [
       "<div>\n",
       "<style scoped>\n",
       "    .dataframe tbody tr th:only-of-type {\n",
       "        vertical-align: middle;\n",
       "    }\n",
       "\n",
       "    .dataframe tbody tr th {\n",
       "        vertical-align: top;\n",
       "    }\n",
       "\n",
       "    .dataframe thead tr th {\n",
       "        text-align: left;\n",
       "    }\n",
       "\n",
       "    .dataframe thead tr:last-of-type th {\n",
       "        text-align: right;\n",
       "    }\n",
       "</style>\n",
       "<table border=\"1\" class=\"dataframe\">\n",
       "  <thead>\n",
       "    <tr>\n",
       "      <th></th>\n",
       "      <th colspan=\"8\" halign=\"left\">METASCORE</th>\n",
       "      <th colspan=\"2\" halign=\"left\">REVIEW_WORD_COUNT</th>\n",
       "      <th>...</th>\n",
       "      <th colspan=\"2\" halign=\"left\">SENTIMENT</th>\n",
       "      <th colspan=\"8\" halign=\"left\">SUBJECTIVITY</th>\n",
       "    </tr>\n",
       "    <tr>\n",
       "      <th></th>\n",
       "      <th>count</th>\n",
       "      <th>mean</th>\n",
       "      <th>std</th>\n",
       "      <th>min</th>\n",
       "      <th>25%</th>\n",
       "      <th>50%</th>\n",
       "      <th>75%</th>\n",
       "      <th>max</th>\n",
       "      <th>count</th>\n",
       "      <th>mean</th>\n",
       "      <th>...</th>\n",
       "      <th>75%</th>\n",
       "      <th>max</th>\n",
       "      <th>count</th>\n",
       "      <th>mean</th>\n",
       "      <th>std</th>\n",
       "      <th>min</th>\n",
       "      <th>25%</th>\n",
       "      <th>50%</th>\n",
       "      <th>75%</th>\n",
       "      <th>max</th>\n",
       "    </tr>\n",
       "    <tr>\n",
       "      <th>LABEL</th>\n",
       "      <th></th>\n",
       "      <th></th>\n",
       "      <th></th>\n",
       "      <th></th>\n",
       "      <th></th>\n",
       "      <th></th>\n",
       "      <th></th>\n",
       "      <th></th>\n",
       "      <th></th>\n",
       "      <th></th>\n",
       "      <th></th>\n",
       "      <th></th>\n",
       "      <th></th>\n",
       "      <th></th>\n",
       "      <th></th>\n",
       "      <th></th>\n",
       "      <th></th>\n",
       "      <th></th>\n",
       "      <th></th>\n",
       "      <th></th>\n",
       "      <th></th>\n",
       "    </tr>\n",
       "  </thead>\n",
       "  <tbody>\n",
       "    <tr>\n",
       "      <th>0</th>\n",
       "      <td>4088.0</td>\n",
       "      <td>44.602495</td>\n",
       "      <td>11.949050</td>\n",
       "      <td>0.0</td>\n",
       "      <td>35.0</td>\n",
       "      <td>42.0</td>\n",
       "      <td>55.0</td>\n",
       "      <td>65.0</td>\n",
       "      <td>4088.0</td>\n",
       "      <td>18.534491</td>\n",
       "      <td>...</td>\n",
       "      <td>0.100000</td>\n",
       "      <td>1.0</td>\n",
       "      <td>4088.0</td>\n",
       "      <td>0.400291</td>\n",
       "      <td>0.203010</td>\n",
       "      <td>0.0</td>\n",
       "      <td>0.300000</td>\n",
       "      <td>0.400000</td>\n",
       "      <td>0.511111</td>\n",
       "      <td>1.0</td>\n",
       "    </tr>\n",
       "    <tr>\n",
       "      <th>1</th>\n",
       "      <td>4583.0</td>\n",
       "      <td>91.838316</td>\n",
       "      <td>8.215549</td>\n",
       "      <td>66.0</td>\n",
       "      <td>85.0</td>\n",
       "      <td>92.0</td>\n",
       "      <td>100.0</td>\n",
       "      <td>100.0</td>\n",
       "      <td>4583.0</td>\n",
       "      <td>20.878027</td>\n",
       "      <td>...</td>\n",
       "      <td>0.237083</td>\n",
       "      <td>1.0</td>\n",
       "      <td>4583.0</td>\n",
       "      <td>0.418476</td>\n",
       "      <td>0.191885</td>\n",
       "      <td>0.0</td>\n",
       "      <td>0.327273</td>\n",
       "      <td>0.414286</td>\n",
       "      <td>0.525000</td>\n",
       "      <td>1.0</td>\n",
       "    </tr>\n",
       "  </tbody>\n",
       "</table>\n",
       "<p>2 rows × 32 columns</p>\n",
       "</div>"
      ],
      "text/plain": [
       "      METASCORE                                                        \\\n",
       "          count       mean        std   min   25%   50%    75%    max   \n",
       "LABEL                                                                   \n",
       "0        4088.0  44.602495  11.949050   0.0  35.0  42.0   55.0   65.0   \n",
       "1        4583.0  91.838316   8.215549  66.0  85.0  92.0  100.0  100.0   \n",
       "\n",
       "      REVIEW_WORD_COUNT             ... SENTIMENT      SUBJECTIVITY            \\\n",
       "                  count       mean  ...       75%  max        count      mean   \n",
       "LABEL                               ...                                         \n",
       "0                4088.0  18.534491  ...  0.100000  1.0       4088.0  0.400291   \n",
       "1                4583.0  20.878027  ...  0.237083  1.0       4583.0  0.418476   \n",
       "\n",
       "                                                         \n",
       "            std  min       25%       50%       75%  max  \n",
       "LABEL                                                    \n",
       "0      0.203010  0.0  0.300000  0.400000  0.511111  1.0  \n",
       "1      0.191885  0.0  0.327273  0.414286  0.525000  1.0  \n",
       "\n",
       "[2 rows x 32 columns]"
      ]
     },
     "execution_count": 244,
     "metadata": {},
     "output_type": "execute_result"
    }
   ],
   "source": [
    "df.groupby(\"LABEL\").describe()"
   ]
  },
  {
   "cell_type": "markdown",
   "metadata": {},
   "source": [
    "## Baseline | Benchmark Accuracy"
   ]
  },
  {
   "cell_type": "code",
   "execution_count": 134,
   "metadata": {},
   "outputs": [
    {
     "name": "stdout",
     "output_type": "stream",
     "text": [
      "Negative Label: 4088\n",
      "Positive Label: 4583\n",
      "Benchmark Accuracy: 0.53\n"
     ]
    }
   ],
   "source": [
    "## displaying the number of observations with negative sentiment in the dataset.\n",
    "print(\"Negative Label: {}\".format((df[\"LABEL\"] == 0).sum()))\n",
    "\n",
    "## displaying the number of observations with positive sentiment in the dataset.\n",
    "print(\"Positive Label: {}\".format((df[\"LABEL\"] == 1).sum()))\n",
    "\n",
    "## The baseline accuracy\n",
    "## this the ratio of the majority class (pos label) to the size of the dataset.\n",
    "## This would be used as a benchmark when evaluating the minimum accuracy for the models\n",
    "print(\"Benchmark Accuracy: {:.2f}\".format((df[\"LABEL\"] == 1).sum()/len(df)))"
   ]
  },
  {
   "cell_type": "markdown",
   "metadata": {},
   "source": [
    "## Training and Testing Set"
   ]
  },
  {
   "cell_type": "code",
   "execution_count": 135,
   "metadata": {},
   "outputs": [
    {
     "name": "stdout",
     "output_type": "stream",
     "text": [
      "(6936, 14)\n",
      "(1735, 14)\n",
      "(6936,)\n",
      "(1735,)\n"
     ]
    }
   ],
   "source": [
    "df = utils.shuffle(df)\n",
    "# isolating the target column (label)\n",
    "y = df['LABEL']\n",
    "\n",
    "X = df.drop(['LABEL'], axis=1)\n",
    "\n",
    "# Splitting into train and test set\n",
    "X_train, X_test, y_train, y_test = train_test_split(X, y, test_size=0.20, random_state=42)\n",
    "\n",
    "# Displaying the shape of the features and target section of the dataset\n",
    "print(X_train.shape)\n",
    "print(X_test.shape)\n",
    "print(y_train.shape)\n",
    "print(y_test.shape)"
   ]
  },
  {
   "cell_type": "code",
   "execution_count": 136,
   "metadata": {},
   "outputs": [
    {
     "name": "stdout",
     "output_type": "stream",
     "text": [
      "824\n",
      "911\n",
      "\n",
      "\n",
      "3264\n",
      "3672\n"
     ]
    }
   ],
   "source": [
    "# proportion 0 and 1 in both train and test set\n",
    "print((y_test == 0).sum())\n",
    "print((y_test == 1).sum())\n",
    "print('\\n')\n",
    "print((y_train == 0).sum())\n",
    "print((y_train == 1).sum())"
   ]
  },
  {
   "cell_type": "markdown",
   "metadata": {},
   "source": [
    "## Developing models and Fitting them on the Extracted features"
   ]
  },
  {
   "cell_type": "markdown",
   "metadata": {},
   "source": [
    "### 1. Fitting the Naive Bayes model on the training set and perform performance evaluation on it "
   ]
  },
  {
   "cell_type": "code",
   "execution_count": 139,
   "metadata": {},
   "outputs": [
    {
     "name": "stdout",
     "output_type": "stream",
     "text": [
      "{'nb__alpha': 0.1, 'tfidf__norm': 'l2', 'tfidf__use_idf': False, 'vect__ngram_range': (1, 2)}\n",
      "\n",
      "\n",
      "              precision    recall  f1-score   support\n",
      "\n",
      "           0      0.876     0.765     0.817       824\n",
      "           1      0.809     0.902     0.853       911\n",
      "\n",
      "    accuracy                          0.837      1735\n",
      "   macro avg      0.843     0.833     0.835      1735\n",
      "weighted avg      0.841     0.837     0.836      1735\n",
      "\n",
      "\n",
      "\n",
      "Accuracy Score: 0.8368876080691643\n",
      "\n",
      "\n",
      "Confusion matrix Score: [[822  89]\n",
      " [194 630]]\n",
      "[0 1 1 1 0 0 1 1 1 1]\n",
      "[0 1 0 0 0 0 1 1 0 0]\n"
     ]
    }
   ],
   "source": [
    "from sklearn.naive_bayes import MultinomialNB\n",
    "from sklearn.pipeline import Pipeline\n",
    "from sklearn.model_selection import cross_val_predict\n",
    "from sklearn.metrics import confusion_matrix, classification_report, accuracy_score\n",
    "from sklearn.model_selection import train_test_split, GridSearchCV\n",
    "from sklearn.feature_extraction.text import CountVectorizer,TfidfTransformer, TfidfVectorizer\n",
    "\n",
    "nb_clf = Pipeline([('vect', CountVectorizer()),\n",
    "                     ('tfidf', TfidfTransformer()),\n",
    "                     ('nb', MultinomialNB())])\n",
    "parameters_ = {\n",
    "    'vect__ngram_range': [(1, 1), (1, 2), (2, 2)],\n",
    "    'tfidf__use_idf': (True, False),\n",
    "    'tfidf__norm': ('l1', 'l2'),\n",
    "    'nb__alpha': [1, 1e-1, 1e-2]\n",
    "}\n",
    "\n",
    "#cls_naivebayes_ = MultinomialNB()\n",
    "clf = GridSearchCV(nb_clf, param_grid=parameters_, cv=5)\n",
    "clf.fit(X_train[\"PROCESSED_REVIEW\"].values, y_train)\n",
    "\n",
    "print(clf.best_params_);print('\\n')\n",
    "y_pred = clf.predict(X_test[\"PROCESSED_REVIEW\"].values)\n",
    "\n",
    "print(classification_report(y_test, y_pred, digits=3));print('\\n')\n",
    "print('Accuracy Score: {}\\n\\n'.format(accuracy_score(y_test, y_pred)))\n",
    "print('Confusion matrix Score: {}\\n'.format(confusion_matrix(y_test, y_pred, labels=[1,0])))\n",
    "\n",
    "\n",
    "print(y_pred[300:310])\n",
    "print(y_test[300:310].values)"
   ]
  },
  {
   "cell_type": "code",
   "execution_count": 151,
   "metadata": {},
   "outputs": [
    {
     "name": "stdout",
     "output_type": "stream",
     "text": [
      "[1]\n",
      "[0]\n",
      "[[0.15 0.85]]\n",
      "[[1. 0.]]\n"
     ]
    }
   ],
   "source": [
    "## Testing how good the model is...\n",
    "X_pred = clf.predict([\"best games\"])\n",
    "## Prediction\n",
    "print(X_pred)\n",
    "\n",
    "X_pred = clf.predict([\"It is a lovely game but I had a really bad experience while playing it...\"])\n",
    "## Prediction\n",
    "print(X_pred)\n",
    "\n",
    "X_pred = clf.predict_proba([\"best games\"])\n",
    "## Prediction\n",
    "print(X_pred)\n",
    "\n",
    "X_pred = clf.predict_proba([\"It is a lovely game but I had a really bad experience while playing it...\"])\n",
    "## Prediction\n",
    "print(X_pred)"
   ]
  },
  {
   "cell_type": "markdown",
   "metadata": {},
   "source": [
    "### 2. Fitting RandomForestClassifier on the train set"
   ]
  },
  {
   "cell_type": "code",
   "execution_count": 143,
   "metadata": {},
   "outputs": [
    {
     "name": "stdout",
     "output_type": "stream",
     "text": [
      "{'clf__criterion': 'entropy', 'tfidf__norm': 'l2', 'tfidf__use_idf': False, 'vect__ngram_range': (1, 1)}\n",
      "\n",
      "\n",
      "              precision    recall  f1-score   support\n",
      "\n",
      "           0      0.768     0.783     0.775       824\n",
      "           1      0.800     0.786     0.793       911\n",
      "\n",
      "    accuracy                          0.784      1735\n",
      "   macro avg      0.784     0.784     0.784      1735\n",
      "weighted avg      0.785     0.784     0.785      1735\n",
      "\n",
      "Accuracy Score: 0.7844380403458213\n",
      "\n",
      "\n",
      "Confusion matrix Score\n",
      ": [[716 195]\n",
      " [179 645]]\n",
      "[0 1 1 1 0 0 0 1 0 1]\n",
      "[0 1 0 0 0 0 1 1 0 0]\n"
     ]
    }
   ],
   "source": [
    "from sklearn.ensemble import RandomForestClassifier\n",
    "\n",
    "#rf_classifier_ = RandomForestClassifier(n_estimators = 10, criterion = 'entropy', random_state = 100)\n",
    " #'clf__n_estimators': [20],\n",
    "#'clf__max_features': ['auto', 'sqrt', 'log2'],\n",
    "#'clf__max_depth' : [4,5,6,7,8]\n",
    "\n",
    "rf_clf = Pipeline([('vect', CountVectorizer()),\n",
    "                     ('tfidf', TfidfTransformer()),\n",
    "                     ('clf', RandomForestClassifier(n_estimators = 20,random_state = 200))])\n",
    "parameters_ = {\n",
    "    'vect__ngram_range': [(1, 1), (1, 2), (2, 2)],\n",
    "    'tfidf__use_idf': (True, False),\n",
    "    'tfidf__norm': ('l1', 'l2'),\n",
    "    'clf__criterion' :['gini', 'entropy']\n",
    "}\n",
    "\n",
    "\n",
    "clf = GridSearchCV(rf_clf, param_grid=parameters_, cv=5)\n",
    "clf.fit(X_train[\"PROCESSED_REVIEW\"].values, y_train)\n",
    "\n",
    "print(clf.best_params_);print('\\n')\n",
    "\n",
    "y_pred = clf.predict(X_test[\"PROCESSED_REVIEW\"].values)\n",
    "\n",
    "print(classification_report(y_test, y_pred, digits=3))\n",
    "print('Accuracy Score: {}\\n\\n'.format(accuracy_score(y_test, y_pred)))\n",
    "print('Confusion matrix Score: {}\\n'.format(confusion_matrix(y_test, y_pred, labels=[1,0])))\n",
    "\n",
    "print(y_pred[300:310])\n",
    "print(y_test[300:310].values)"
   ]
  },
  {
   "cell_type": "markdown",
   "metadata": {},
   "source": [
    "### 3. Fitting SVM method (SVC) on the train set "
   ]
  },
  {
   "cell_type": "code",
   "execution_count": null,
   "metadata": {},
   "outputs": [],
   "source": [
    "from sklearn import svm\n",
    "\n",
    "parameters_ = {\n",
    "    'vect__ngram_range': [(1, 1), (1, 2), (2, 2)],\n",
    "    'tfidf__use_idf': (True, False),\n",
    "    'tfidf__norm': ('l1', 'l2'),\n",
    "    'svc__C': [0.1, 1, 10, 100, 1000],\n",
    "    'svc__kernel': ['linear','rbf']\n",
    "}\n",
    "\n",
    "svc_clf = Pipeline([('vect', CountVectorizer()),\n",
    "                     ('tfidf', TfidfTransformer()),\n",
    "                     ('svc', svm.SVC())])\n",
    "\n",
    "svm_clf = GridSearchCV(svc_clf, param_grid=parameters_, cv=5)\n",
    "svm_clf.fit(X_train[\"PROCESSED_REVIEW\"].values, y_train)\n",
    "print(svm_clf.best_params_);print('\\n')\n",
    "\n",
    "y_pred = svm_clf.predict(X_test[\"PROCESSED_REVIEW\"].values)\n",
    "\n",
    "print(classification_report(y_test, y_pred, digits=3));print('\\n')\n",
    "print('Accuracy Score: {}\\n\\n'.format(accuracy_score(y_test, y_pred)))\n",
    "print('Confusion matrix Score:\\n {}'.format(confusion_matrix(y_test, y_pred)))\n",
    "\n",
    "print(y_pred[300:310])\n",
    "print(y_test[300:310].values)"
   ]
  },
  {
   "cell_type": "markdown",
   "metadata": {},
   "source": [
    "### 4. Logistic regression"
   ]
  },
  {
   "cell_type": "code",
   "execution_count": 274,
   "metadata": {},
   "outputs": [
    {
     "name": "stdout",
     "output_type": "stream",
     "text": [
      "              precision    recall  f1-score   support\n",
      "\n",
      "           0      0.848     0.788     0.817       810\n",
      "           1      0.825     0.877     0.850       925\n",
      "\n",
      "    accuracy                          0.835      1735\n",
      "   macro avg      0.837     0.832     0.834      1735\n",
      "weighted avg      0.836     0.835     0.835      1735\n",
      "\n",
      "\n",
      "\n",
      "Accuracy Score: 0.8351585014409222\n",
      "\n",
      "\n",
      "Confusion matrix Score:\n",
      " [[638 172]\n",
      " [114 811]]\n",
      "[1 0 1 1 0 1 1 0 0 1]\n",
      "[1 0 1 0 0 1 0 0 0 1]\n"
     ]
    }
   ],
   "source": [
    "from sklearn.linear_model import LogisticRegression\n",
    "\n",
    "\n",
    "parameters_ = {\n",
    "    'vect__ngram_range': [(1, 1), (1, 2), (2, 2)],\n",
    "    'tfidf__use_idf': (True, False),\n",
    "    'tfidf__norm': ('l1', 'l2'),\n",
    "    'lr__C': [0.1, 1, 10, 100, 1000]\n",
    "}\n",
    "\n",
    "lr_clf = Pipeline([('vect', CountVectorizer()),\n",
    "                     ('tfidf', TfidfTransformer()),\n",
    "                     ('lr',  LogisticRegression())])\n",
    "\n",
    "LR_clf = GridSearchCV(lr_clf, param_grid=parameters_, cv=5)\n",
    "LR_clf.fit(X_train[\"PROCESSED_REVIEW\"].values, y_train)\n",
    "\n",
    "print(LR_clf.best_params_);print('\\n')\n",
    "# Predict with the unseen set (testing set)\n",
    "y_pred = LR_clf.predict(X_test[\"PROCESSED_REVIEW\"].values)\n",
    "\n",
    "print(classification_report(y_test, y_pred, digits=3));print('\\n')\n",
    "print('Accuracy Score: {}\\n\\n'.format(accuracy_score(y_test, y_pred)))\n",
    "print('Confusion matrix Score:\\n {}'.format(confusion_matrix(y_test, y_pred)))\n",
    "\n",
    "print(y_pred[300:310])\n",
    "print(y_test[300:310].values)"
   ]
  },
  {
   "cell_type": "code",
   "execution_count": 297,
   "metadata": {},
   "outputs": [
    {
     "name": "stdout",
     "output_type": "stream",
     "text": [
      "[1]\n",
      "[1]\n"
     ]
    }
   ],
   "source": [
    "## Testing how good the model is...\n",
    "X_pred = LR_clf.predict([\"It is a lovely game\"])\n",
    "## Prediction\n",
    "print(X_pred)\n",
    "\n",
    "X_pred = LR_clf.predict([\"I had a blissful experience with the game\"])\n",
    "## Prediction\n",
    "print(X_pred)"
   ]
  },
  {
   "cell_type": "markdown",
   "metadata": {},
   "source": [
    "### 5. Basic Neural Network Using Keras: Training word Embedding and fit NN on the word vector (word embedding)"
   ]
  },
  {
   "cell_type": "code",
   "execution_count": 36,
   "metadata": {},
   "outputs": [
    {
     "name": "stdout",
     "output_type": "stream",
     "text": [
      "Collecting keras\n",
      "  Downloading Keras-2.4.3-py2.py3-none-any.whl (36 kB)\n",
      "Requirement already satisfied: numpy>=1.9.1 in c:\\users\\tunde\\anaconda3\\lib\\site-packages (from keras) (1.18.1)\n",
      "Requirement already satisfied: h5py in c:\\users\\tunde\\anaconda3\\lib\\site-packages (from keras) (2.10.0)\n",
      "Requirement already satisfied: pyyaml in c:\\users\\tunde\\anaconda3\\lib\\site-packages (from keras) (5.3)\n",
      "Requirement already satisfied: scipy>=0.14 in c:\\users\\tunde\\anaconda3\\lib\\site-packages (from keras) (1.4.1)\n",
      "Requirement already satisfied: six in c:\\users\\tunde\\anaconda3\\lib\\site-packages (from h5py->keras) (1.14.0)\n",
      "Installing collected packages: keras\n",
      "Successfully installed keras-2.4.3\n",
      "Collecting theano\n",
      "  Downloading Theano-1.0.5.tar.gz (2.8 MB)\n",
      "Requirement already satisfied: numpy>=1.9.1 in c:\\users\\tunde\\anaconda3\\lib\\site-packages (from theano) (1.18.1)\n",
      "Requirement already satisfied: scipy>=0.14 in c:\\users\\tunde\\anaconda3\\lib\\site-packages (from theano) (1.4.1)\n",
      "Requirement already satisfied: six>=1.9.0 in c:\\users\\tunde\\anaconda3\\lib\\site-packages (from theano) (1.14.0)\n",
      "Building wheels for collected packages: theano\n",
      "  Building wheel for theano (setup.py): started\n",
      "  Building wheel for theano (setup.py): finished with status 'done'\n",
      "  Created wheel for theano: filename=Theano-1.0.5-py3-none-any.whl size=2668111 sha256=40826e379d5132a9031a400a8bbc223eb65da8f0e25649a3c1a07fac4d6977e7\n",
      "  Stored in directory: c:\\users\\tunde\\appdata\\local\\pip\\cache\\wheels\\26\\68\\6f\\745330367ce7822fe0cd863712858151f5723a0a5e322cc144\n",
      "Successfully built theano\n",
      "Installing collected packages: theano\n",
      "Successfully installed theano-1.0.5\n",
      "Collecting tensorflow\n",
      "  Downloading tensorflow-2.3.0-cp37-cp37m-win_amd64.whl (342.5 MB)\n",
      "Requirement already satisfied: numpy<1.19.0,>=1.16.0 in c:\\users\\tunde\\anaconda3\\lib\\site-packages (from tensorflow) (1.18.1)\n",
      "Requirement already satisfied: opt-einsum>=2.3.2 in c:\\users\\tunde\\appdata\\roaming\\python\\python37\\site-packages (from tensorflow) (3.1.0)\n",
      "Collecting termcolor>=1.1.0\n",
      "  Using cached termcolor-1.1.0.tar.gz (3.9 kB)\n",
      "Collecting keras-preprocessing<1.2,>=1.1.1\n",
      "  Downloading Keras_Preprocessing-1.1.2-py2.py3-none-any.whl (42 kB)\n",
      "Requirement already satisfied: wheel>=0.26 in c:\\users\\tunde\\anaconda3\\lib\\site-packages (from tensorflow) (0.34.2)\n",
      "Requirement already satisfied: wrapt>=1.11.1 in c:\\users\\tunde\\anaconda3\\lib\\site-packages (from tensorflow) (1.11.2)\n",
      "Collecting absl-py>=0.7.0\n",
      "  Using cached absl-py-0.9.0.tar.gz (104 kB)\n",
      "Collecting tensorflow-estimator<2.4.0,>=2.3.0\n",
      "  Downloading tensorflow_estimator-2.3.0-py2.py3-none-any.whl (459 kB)\n",
      "Collecting gast==0.3.3\n",
      "  Downloading gast-0.3.3-py2.py3-none-any.whl (9.7 kB)\n",
      "Collecting astunparse==1.6.3\n",
      "  Downloading astunparse-1.6.3-py2.py3-none-any.whl (12 kB)\n",
      "Requirement already satisfied: h5py<2.11.0,>=2.10.0 in c:\\users\\tunde\\anaconda3\\lib\\site-packages (from tensorflow) (2.10.0)\n",
      "Collecting grpcio>=1.8.6\n",
      "  Downloading grpcio-1.31.0-cp37-cp37m-win_amd64.whl (2.4 MB)\n",
      "Requirement already satisfied: six>=1.12.0 in c:\\users\\tunde\\anaconda3\\lib\\site-packages (from tensorflow) (1.14.0)\n",
      "Requirement already satisfied: scipy==1.4.1 in c:\\users\\tunde\\anaconda3\\lib\\site-packages (from tensorflow) (1.4.1)\n",
      "Collecting tensorboard<3,>=2.3.0\n",
      "  Downloading tensorboard-2.3.0-py3-none-any.whl (6.8 MB)\n",
      "Collecting protobuf>=3.9.2\n",
      "  Downloading protobuf-3.12.4-cp37-cp37m-win_amd64.whl (1.0 MB)\n",
      "Collecting google-pasta>=0.1.8\n",
      "  Using cached google_pasta-0.2.0-py3-none-any.whl (57 kB)\n",
      "Requirement already satisfied: setuptools>=41.0.0 in c:\\users\\tunde\\anaconda3\\lib\\site-packages (from tensorboard<3,>=2.3.0->tensorflow) (45.2.0.post20200210)\n",
      "Collecting google-auth<2,>=1.6.3\n",
      "  Downloading google_auth-1.20.1-py2.py3-none-any.whl (91 kB)\n",
      "Requirement already satisfied: requests<3,>=2.21.0 in c:\\users\\tunde\\anaconda3\\lib\\site-packages (from tensorboard<3,>=2.3.0->tensorflow) (2.22.0)\n",
      "Requirement already satisfied: werkzeug>=0.11.15 in c:\\users\\tunde\\anaconda3\\lib\\site-packages (from tensorboard<3,>=2.3.0->tensorflow) (1.0.0)\n",
      "Collecting tensorboard-plugin-wit>=1.6.0\n",
      "  Downloading tensorboard_plugin_wit-1.7.0-py3-none-any.whl (779 kB)\n",
      "Collecting google-auth-oauthlib<0.5,>=0.4.1\n",
      "  Using cached google_auth_oauthlib-0.4.1-py2.py3-none-any.whl (18 kB)\n",
      "Collecting markdown>=2.6.8\n",
      "  Downloading Markdown-3.2.2-py3-none-any.whl (88 kB)\n",
      "Collecting rsa<5,>=3.1.4; python_version >= \"3.5\"\n",
      "  Downloading rsa-4.6-py3-none-any.whl (47 kB)\n",
      "Collecting pyasn1-modules>=0.2.1\n",
      "  Using cached pyasn1_modules-0.2.8-py2.py3-none-any.whl (155 kB)\n",
      "Collecting cachetools<5.0,>=2.0.0\n",
      "  Downloading cachetools-4.1.1-py3-none-any.whl (10 kB)\n",
      "Requirement already satisfied: urllib3!=1.25.0,!=1.25.1,<1.26,>=1.21.1 in c:\\users\\tunde\\anaconda3\\lib\\site-packages (from requests<3,>=2.21.0->tensorboard<3,>=2.3.0->tensorflow) (1.25.8)\n",
      "Requirement already satisfied: idna<2.9,>=2.5 in c:\\users\\tunde\\anaconda3\\lib\\site-packages (from requests<3,>=2.21.0->tensorboard<3,>=2.3.0->tensorflow) (2.8)\n",
      "Requirement already satisfied: certifi>=2017.4.17 in c:\\users\\tunde\\anaconda3\\lib\\site-packages (from requests<3,>=2.21.0->tensorboard<3,>=2.3.0->tensorflow) (2019.11.28)\n",
      "Requirement already satisfied: chardet<3.1.0,>=3.0.2 in c:\\users\\tunde\\anaconda3\\lib\\site-packages (from requests<3,>=2.21.0->tensorboard<3,>=2.3.0->tensorflow) (3.0.4)\n",
      "Collecting requests-oauthlib>=0.7.0\n",
      "  Using cached requests_oauthlib-1.3.0-py2.py3-none-any.whl (23 kB)\n",
      "Requirement already satisfied: importlib-metadata; python_version < \"3.8\" in c:\\users\\tunde\\anaconda3\\lib\\site-packages (from markdown>=2.6.8->tensorboard<3,>=2.3.0->tensorflow) (1.5.0)\n",
      "Collecting pyasn1>=0.1.3\n",
      "  Using cached pyasn1-0.4.8-py2.py3-none-any.whl (77 kB)\n",
      "Collecting oauthlib>=3.0.0\n",
      "  Using cached oauthlib-3.1.0-py2.py3-none-any.whl (147 kB)\n",
      "Requirement already satisfied: zipp>=0.5 in c:\\users\\tunde\\anaconda3\\lib\\site-packages (from importlib-metadata; python_version < \"3.8\"->markdown>=2.6.8->tensorboard<3,>=2.3.0->tensorflow) (2.2.0)\n",
      "Building wheels for collected packages: termcolor, absl-py\n",
      "  Building wheel for termcolor (setup.py): started\n",
      "  Building wheel for termcolor (setup.py): finished with status 'done'\n",
      "  Created wheel for termcolor: filename=termcolor-1.1.0-py3-none-any.whl size=4835 sha256=09c37793c6ba84e83bec504ace7aeb34bed7bf9c82065fb256565f226af35704\n",
      "  Stored in directory: c:\\users\\tunde\\appdata\\local\\pip\\cache\\wheels\\3f\\e3\\ec\\8a8336ff196023622fbcb36de0c5a5c218cbb24111d1d4c7f2\n",
      "  Building wheel for absl-py (setup.py): started\n",
      "  Building wheel for absl-py (setup.py): finished with status 'done'\n",
      "  Created wheel for absl-py: filename=absl_py-0.9.0-py3-none-any.whl size=121935 sha256=1caecb0d8acaaf27544a2d4c2cfcbbb00a83972a7ce9f1f3b2ed3dd3bd5523e2\n",
      "  Stored in directory: c:\\users\\tunde\\appdata\\local\\pip\\cache\\wheels\\cc\\af\\1a\\498a24d0730ef484019e007bb9e8cef3ac00311a672c049a3e\n",
      "Successfully built termcolor absl-py\n",
      "Installing collected packages: termcolor, keras-preprocessing, absl-py, tensorflow-estimator, gast, astunparse, grpcio, pyasn1, rsa, pyasn1-modules, cachetools, google-auth, tensorboard-plugin-wit, oauthlib, requests-oauthlib, google-auth-oauthlib, markdown, protobuf, tensorboard, google-pasta, tensorflow\n",
      "Successfully installed absl-py-0.9.0 astunparse-1.6.3 cachetools-4.1.1 gast-0.3.3 google-auth-1.20.1 google-auth-oauthlib-0.4.1 google-pasta-0.2.0 grpcio-1.31.0 keras-preprocessing-1.1.2 markdown-3.2.2 oauthlib-3.1.0 protobuf-3.12.4 pyasn1-0.4.8 pyasn1-modules-0.2.8 requests-oauthlib-1.3.0 rsa-4.6 tensorboard-2.3.0 tensorboard-plugin-wit-1.7.0 tensorflow-2.3.0 tensorflow-estimator-2.3.0 termcolor-1.1.0\n"
     ]
    }
   ],
   "source": [
    "!pip install keras\n",
    "!pip install theano\n",
    "!pip install tensorflow"
   ]
  },
  {
   "cell_type": "code",
   "execution_count": 187,
   "metadata": {},
   "outputs": [],
   "source": [
    "from numpy import array\n",
    "from keras.preprocessing.text import one_hot\n",
    "from keras.preprocessing.sequence import pad_sequences\n",
    "from keras.models import Sequential\n",
    "from keras.layers import Dense\n",
    "from keras.layers import Flatten\n",
    "from keras.layers.embeddings import Embedding"
   ]
  },
  {
   "cell_type": "code",
   "execution_count": 188,
   "metadata": {},
   "outputs": [
    {
     "name": "stdout",
     "output_type": "stream",
     "text": [
      "Epoch 1/20\n",
      "8671/8671 [==============================] - 17s 2ms/step - loss: 0.6919 - accuracy: 0.5277\n",
      "Epoch 2/20\n",
      "8671/8671 [==============================] - 19s 2ms/step - loss: 0.6927 - accuracy: 0.5206\n",
      "Epoch 3/20\n",
      "8671/8671 [==============================] - 21s 2ms/step - loss: 0.6920 - accuracy: 0.5285\n",
      "Epoch 4/20\n",
      "8671/8671 [==============================] - 22s 3ms/step - loss: 0.6926 - accuracy: 0.5207\n",
      "Epoch 5/20\n",
      "8671/8671 [==============================] - 22s 3ms/step - loss: 0.6917 - accuracy: 0.5285\n",
      "Epoch 6/20\n",
      "8671/8671 [==============================] - 23s 3ms/step - loss: 0.6922 - accuracy: 0.5223\n",
      "Epoch 7/20\n",
      "8671/8671 [==============================] - 17s 2ms/step - loss: 0.6922 - accuracy: 0.5239\n",
      "Epoch 8/20\n",
      "8671/8671 [==============================] - 21s 2ms/step - loss: 0.6919 - accuracy: 0.5285\n",
      "Epoch 9/20\n",
      "8671/8671 [==============================] - 23s 3ms/step - loss: 0.6920 - accuracy: 0.5285\n",
      "Epoch 10/20\n",
      "8671/8671 [==============================] - 25s 3ms/step - loss: 0.6918 - accuracy: 0.5285\n",
      "Epoch 11/20\n",
      "8671/8671 [==============================] - 25s 3ms/step - loss: 0.6919 - accuracy: 0.5285\n",
      "Epoch 12/20\n",
      "8671/8671 [==============================] - 22s 3ms/step - loss: 0.6918 - accuracy: 0.5283\n",
      "Epoch 13/20\n",
      "8671/8671 [==============================] - 22s 3ms/step - loss: 0.6920 - accuracy: 0.5270\n",
      "Epoch 14/20\n",
      "8671/8671 [==============================] - 24s 3ms/step - loss: 0.6919 - accuracy: 0.5285\n",
      "Epoch 15/20\n",
      "8671/8671 [==============================] - 21s 2ms/step - loss: 0.6919 - accuracy: 0.5253\n",
      "Epoch 16/20\n",
      "8671/8671 [==============================] - 17s 2ms/step - loss: 0.6919 - accuracy: 0.5285\n",
      "Epoch 17/20\n",
      "8671/8671 [==============================] - 24s 3ms/step - loss: 0.6917 - accuracy: 0.5285\n",
      "Epoch 18/20\n",
      "8671/8671 [==============================] - 22s 3ms/step - loss: 0.6919 - accuracy: 0.5285\n",
      "Epoch 19/20\n",
      "8671/8671 [==============================] - 24s 3ms/step - loss: 0.6916 - accuracy: 0.5267\n",
      "Epoch 20/20\n",
      "8671/8671 [==============================] - 25s 3ms/step - loss: 0.6917 - accuracy: 0.5277\n",
      "Model: \"sequential\"\n",
      "_________________________________________________________________\n",
      "Layer (type)                 Output Shape              Param #   \n",
      "=================================================================\n",
      "dense (Dense)                (None, 200)               8200      \n",
      "_________________________________________________________________\n",
      "dense_1 (Dense)              (None, 200)               40200     \n",
      "_________________________________________________________________\n",
      "dense_2 (Dense)              (None, 1)                 201       \n",
      "=================================================================\n",
      "Total params: 48,601\n",
      "Trainable params: 48,601\n",
      "Non-trainable params: 0\n",
      "_________________________________________________________________\n",
      "None\n",
      "Accuracy: 0.53\n"
     ]
    }
   ],
   "source": [
    "from sklearn.preprocessing import LabelEncoder\n",
    "from keras.utils import to_categorical\n",
    "#encoder = LabelEncoder()\n",
    "#encoded_dec = encoder.fit_transform(y) \n",
    "#one_hot_Y = to_categorical(encoded_dec)\n",
    "\n",
    "y = df['LABEL'].values\n",
    "# Encoding reviews with integer\n",
    "sequence_hash_size = 200\n",
    "encoded_features = [one_hot(review, sequence_hash_size) for review in df.PROCESSED_REVIEW.values]\n",
    "#print(encoded_features)\n",
    "# using 40 words as the max length (Indicating words with relatively close in meaning) for dense word vector\n",
    "max_length = 40\n",
    "padded_reviews = pad_sequences(encoded_features, maxlen=max_length, padding='post')\n",
    "\n",
    "# instantiate the model\n",
    "\n",
    "model = Sequential()\n",
    "model.add(Dense(200, activation='relu',input_shape=(max_length,)))\n",
    "model.add(Dense(200, activation='softmax'))\n",
    "model.add(Dense(1, activation='sigmoid'))\n",
    "\n",
    "\n",
    "model.compile(loss='binary_crossentropy',\n",
    "              optimizer='adam',\n",
    "              metrics=['accuracy'])\n",
    "                   \n",
    "model.fit(padded_reviews, y,epochs=20, batch_size=1, verbose=1)\n",
    "print(model.summary())\n",
    "loss, accuracy = model.evaluate(padded_reviews, y, verbose=0)\n",
    "print('Accuracy: {:.2f}'.format(accuracy))\n"
   ]
  },
  {
   "cell_type": "markdown",
   "metadata": {},
   "source": [
    "## Sentiment-Based Recommender Engine"
   ]
  },
  {
   "cell_type": "code",
   "execution_count": 162,
   "metadata": {},
   "outputs": [
    {
     "name": "stdout",
     "output_type": "stream",
     "text": [
      "['career', 'mode', 'insultingli', 'linear', 'short', 'live', 'progress', 'interspers', 'cheesi', 'action', 'video', 'peopl', 'give', 'mad', 'prop', 'kook', 'way', 'addit', 'take', 'account']\n",
      "(8671, 10165)\n",
      "[[0 0 0 ... 0 0 0]\n",
      " [0 0 0 ... 0 0 0]\n",
      " [0 0 0 ... 0 0 0]\n",
      " ...\n",
      " [0 0 0 ... 0 0 0]\n",
      " [0 0 0 ... 0 0 0]\n",
      " [0 0 0 ... 0 0 0]]\n",
      "['aaa', 'aback', 'abandon', 'abba', 'abbey', 'abbrevi', 'abc', 'abe', 'abhorr', 'abid', 'abil', 'abl', 'ablaz', 'aboard', 'abomin', 'abound', 'abras', 'abridg', 'abrupt', 'abruptli', 'absenc', 'absent', 'absolut', 'absolv', 'absorb', 'abstract', 'absurd', 'absurdist', 'absurdli', 'abund', 'abus', 'abysm', 'abyss', 'academi', 'academia', 'acc', 'accel', 'acceler', 'accent', 'accentu', 'accept', 'access', 'accessori', 'accid', 'accident', 'acclaim', 'acclim', 'accolad', 'accommod', 'accompani']\n"
     ]
    }
   ],
   "source": [
    "#vectorizer_model = TfidfVectorizer(max_df=0.9)\n",
    "#vectorizer_model.fit(X_train[\"PROCESSED_TEXT\"].values)\n",
    "#  displary vocabulary dictionary\n",
    "#print(vectorizer_model.vocabulary_)\n",
    "#print(vectorizer_model.idf_)\n",
    "\n",
    "vectorizer_model = CountVectorizer()\n",
    "\n",
    "# encode training set\n",
    "vect_data = vectorizer_model.fit_transform(df[\"PROCESSED_REVIEW\"].values)\n",
    "print(list(vectorizer_model.vocabulary_)[:20])\n",
    "\n",
    "#vect_test_data = vectorizer_model.transform(X_test[\"PROCESSED_REVIEW\"].values)\n",
    "\n",
    "# encoded vector\n",
    "print(vect_data.shape)\n",
    "print(vect_data.toarray())\n",
    "\n",
    "#print(vect_test_data.shape)\n",
    "#print(vect_test_data.toarray())\n",
    "\n",
    "# first 50 features\n",
    "print(vectorizer_model.get_feature_names()[:50])"
   ]
  },
  {
   "cell_type": "code",
   "execution_count": 168,
   "metadata": {},
   "outputs": [
    {
     "name": "stdout",
     "output_type": "stream",
     "text": [
      "here...\n"
     ]
    }
   ],
   "source": [
    "if type(similarity) == np.ndarray:\n",
    "    print(\"here...\")"
   ]
  },
  {
   "cell_type": "code",
   "execution_count": 163,
   "metadata": {},
   "outputs": [
    {
     "name": "stdout",
     "output_type": "stream",
     "text": [
      "[[0.         0.         0.         ... 0.06900656 0.23570226 0.08512565]\n",
      " [0.         0.         0.         ... 0.048795   0.16666667 0.        ]\n",
      " [0.06201737 0.0438529  0.         ... 0.06629935 0.1132277  0.08178608]\n",
      " ...\n",
      " [0.04082483 0.         0.         ... 0.04364358 0.1490712  0.        ]\n",
      " [0.         0.05773503 0.         ... 0.04364358 0.1490712  0.        ]\n",
      " [0.         0.         0.         ... 0.05096472 0.17407766 0.        ]]\n",
      "[0.9999999999999998, 0.3944053188733077, 0.3892494720807615, 0.38729833462074165, 0.36514837167011066, 0.3478327964999673, 0.3478327964999673, 0.34641016151377546, 0.3464101615137754, 0.3464101615137754]\n"
     ]
    },
    {
     "data": {
      "text/plain": [
       "(Int64Index([8667, 2747, 4134, 6161, 2187, 3585, 6184, 7776, 3865, 5335], dtype='int64'),\n",
       " [array(['Frozen Synapse Prime', 'PlayStation Vita', 'Sep-23-2014', 0.8],\n",
       "        dtype=object),\n",
       "  array(['Fight Night Round 3', 'PlayStation 2', 'Feb-20-2006',\n",
       "         0.2333333333333333], dtype=object),\n",
       "  array(['Star Wars The Clone Wars: Republic Heroes', 'PlayStation 3',\n",
       "         'Oct-6-2009', 0.15999999999999998], dtype=object),\n",
       "  array(['Dead or Alive Xtreme 3: Fortune', 'PlayStation 4', 'Mar-24-2016',\n",
       "         0.10357142857142856], dtype=object),\n",
       "  array(['WWF No Mercy', 'Nintendo 64', 'Nov-17-2000', 0.0], dtype=object),\n",
       "  array(['Need for Speed Undercover', 'Xbox 360', 'Nov-17-2008',\n",
       "         -0.019999999999999997], dtype=object),\n",
       "  array(['Touhou Kobuto V: Burst Battle', 'PlayStation 4', 'Oct-10-2017',\n",
       "         -0.08194444444444449], dtype=object),\n",
       "  array(['Cat Girl Without Salad: Amuse-Bouche', 'Switch', 'Apr-1-2020',\n",
       "         -0.1326923076923077], dtype=object),\n",
       "  array(['Call of Cthulhu', 'PC', 'Oct-29-2018', -0.23500000000000001],\n",
       "        dtype=object),\n",
       "  array(['The Guest', 'PC', 'Mar-10-2016', -0.4], dtype=object)])"
      ]
     },
     "execution_count": 163,
     "metadata": {},
     "output_type": "execute_result"
    }
   ],
   "source": [
    "from sklearn.metrics.pairwise import cosine_similarity\n",
    "import pickle\n",
    "similarity = cosine_similarity(vect_data,vect_data)\n",
    "print(similarity[1000:1020])\n",
    "\n",
    "sim_scores =[]\n",
    "\n",
    "def sortHelper(item):\n",
    "    return item[3]\n",
    "\n",
    "def Sorter(desc,obj):\n",
    "     obj.sort(reverse=desc,key=sortHelper)\n",
    "\n",
    "def get_recommended_games(title=\"\",sim=similarity, rec_games=[], review_prob=1):\n",
    "    #game_title = \"*****\" \"Tony Hawk's Pro Skater 2\"\n",
    "    if title:\n",
    "        sim_scores = df.loc[df[\"TITLE\"] == title, [\"TITLE\"]]\n",
    "        if len(sim_scores['TITLE'].values):\n",
    "            \n",
    "            sim_scores = sim_scores.index[0]\n",
    "            sim_score = pd.Series(similarity[sim_scores])\n",
    "            print(list(sim_score.sort_values(ascending= False))[:10])\n",
    "            rec_games_index = sim_score.sort_values(ascending= False).index[:10]\n",
    "            rec_games = [df.loc[df.index == game, [\"TITLE\",\"PLATFORM\",\"RELEASE_DATE\",\"SENTIMENT\"]].values.flatten() for game in rec_games_index]\n",
    "            Sorter(True,rec_games)\n",
    "            with open('game_recommendation.data', 'wb') as fd:\n",
    "                ## Storing binary stream using the file handler...\n",
    "                pickle.dump(rec_games, fd)\n",
    "            return rec_games_index,rec_games\n",
    "        else:\n",
    "            return \"Game not found...\"\n",
    "    elif review_prob >= 0:\n",
    "        sim_scores = df.loc[df[\"SENTIMENT\"] >= (review_prob-0.5), [\"SENTIMENT\"]]\n",
    "        if len(sim_scores['SENTIMENT'].values):\n",
    "            sim_scores = sim_scores.index[0]\n",
    "            sim_score = pd.Series(similarity[sim_scores])\n",
    "            print(list(sim_score.sort_values(ascending= False))[:10])\n",
    "            rec_games_index = sim_score.sort_values(ascending= False).index[:10]\n",
    "            rec_games = [df.loc[df.index == game, [\"TITLE\",\"PLATFORM\",\"RELEASE_DATE\",\"SENTIMENT\"]].values.flatten() for game in rec_games_index]\n",
    "            Sorter(True,rec_games)\n",
    "            with open('game_recommendation.data', 'wb') as fd:\n",
    "                ## Storing binary stream using the file handler...\n",
    "                pickle.dump(rec_games, fd)\n",
    "            return rec_games_index,rec_games\n",
    "        else:\n",
    "            return \"Games not found...\"\n",
    "    else:\n",
    "        print(\"Game title not provided...\")\n",
    "get_recommended_games(\"The Guest\",review_prob=0)"
   ]
  },
  {
   "cell_type": "code",
   "execution_count": null,
   "metadata": {},
   "outputs": [],
   "source": [
    "from sklearn.feature_extraction.text import CountVectorizer\n",
    "vec = CountVectorizer()\n",
    "vec.fit(X_train)\n",
    "x_train=vec.transform(X_train)\n",
    "x_test=vec.transform(X_test)\n",
    "\n",
    "from tensorflow.keras.models import Sequential\n",
    "from tensorflow.keras.layers import Dense\n",
    "from tensorflow.keras.optimizers import Adam\n",
    "model = Sequential()\n",
    "model.add(Dense(16, input_dim=x_train.shape[1], activation='relu'))\n",
    "model.add(Dense(16, activation='relu'))\n",
    "model.add(Dense(1, activation='sigmoid'))\n",
    "model.compile(loss='binary_crossentropy',optimizer='Adam',metrics=['accuracy'])"
   ]
  }
 ],
 "metadata": {
  "kernelspec": {
   "display_name": "Python 3",
   "language": "python",
   "name": "python3"
  },
  "language_info": {
   "codemirror_mode": {
    "name": "ipython",
    "version": 3
   },
   "file_extension": ".py",
   "mimetype": "text/x-python",
   "name": "python",
   "nbconvert_exporter": "python",
   "pygments_lexer": "ipython3",
   "version": "3.7.6"
  }
 },
 "nbformat": 4,
 "nbformat_minor": 4
}
